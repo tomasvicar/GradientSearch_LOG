{
 "cells": [
  {
   "cell_type": "markdown",
   "metadata": {},
   "source": [
    " **Laplacian of Gaussian, Scale-Space Approach**"
   ]
  },
  {
   "cell_type": "code",
   "execution_count": 1,
   "metadata": {},
   "outputs": [
    {
     "name": "stderr",
     "output_type": "stream",
     "text": [
      "/home/manan/Softwares/anaconda3/lib/python3.6/site-packages/h5py/__init__.py:36: FutureWarning: Conversion of the second argument of issubdtype from `float` to `np.floating` is deprecated. In future, it will be treated as `np.float64 == np.dtype(float).type`.\n",
      "  from ._conv import register_converters as _register_converters\n"
     ]
    }
   ],
   "source": [
    "from matplotlib import pyplot as plt\n",
    "from Functions import blob\n",
    "import h5py\n",
    "import os\n",
    "import numpy as np\n",
    "import datetime\n",
    "from tifffile import imread\n",
    "from tqdm import tqdm_notebook as tqdm\n"
   ]
  },
  {
   "cell_type": "markdown",
   "metadata": {},
   "source": [
    "**User-Defined Parameters**"
   ]
  },
  {
   "cell_type": "code",
   "execution_count": 2,
   "metadata": {},
   "outputs": [],
   "source": [
    "mode='conservative' # conservative|liberal\n",
    "datapath='/home/manan/Desktop/01_Projects/25_Tomas_GradientLOG/01_Data/BM_dataset_MICCAI2015/source/' #'/home/manan/Desktop/03_Datasets/13-03-12/processed_movie_hdf5_xml/' \\ '/home/manan/Desktop/03_Datasets/24hpf/raw/'\n",
    "dataname='source' # 13-03-12 | 13-03-15 | 24hpf\n",
    "datatype='2D' # 2D | 3D\n",
    "datamodality='fixed'# liveimaging | fixed\n",
    "radiusmin=8\n",
    "radiusmax=20\n",
    "z_x=1 # 5 for liveimaging | 1 for fixed\n",
    "y_x=1\n",
    "brightondark= False # True for bright blobs on dark background, False for dark blobs on bright background"
   ]
  },
  {
   "cell_type": "markdown",
   "metadata": {},
   "source": [
    "** User-Defined Parameters (Continued)**"
   ]
  },
  {
   "cell_type": "code",
   "execution_count": 3,
   "metadata": {},
   "outputs": [],
   "source": [
    "outputaddress='/home/manan/Desktop/01_Projects/25_Tomas_GradientLOG/03_Output/'\n",
    "headerdata='mode\\t'+ mode +'\\n'+'datapath\\t'+datapath+'\\n'+'dataname\\t'+dataname+'\\n'+'datatype\\t'+datatype+'\\n'+'datamodality\\t'+datamodality+'\\n'+'radiusmin\\t'+str(radiusmin)+'\\n'+'radiusmax\\t'+str(radiusmax)+'\\n'+'z_x\\t'+str(z_x)+'\\n'+'y_x\\t'+str(y_x) + '\\n'+ 'brightondark\\t' +str(brightondark)"
   ]
  },
  {
   "cell_type": "markdown",
   "metadata": {},
   "source": [
    "**Preprocessing** "
   ]
  },
  {
   "cell_type": "code",
   "execution_count": 4,
   "metadata": {
    "scrolled": false
   },
   "outputs": [
    {
     "name": "stdout",
     "output_type": "stream",
     "text": [
      "\n"
     ]
    }
   ],
   "source": [
    "from numpy import sqrt\n",
    "if datatype=='2D':\n",
    "    scalemin=int(round(radiusmin/sqrt(2)))\n",
    "    scalemax=int(round(radiusmax/sqrt(2)))\n",
    "elif datatype=='3D':\n",
    "    scalemin=int(round(radiusmin/sqrt(3)))\n",
    "    scalemax=int(round(radiusmax/sqrt(3)))\n",
    "scalerange=range(scalemin, scalemax)\n",
    "plt.close('all')\n",
    "now=datetime.datetime.now()\n",
    "if os.path.isdir(outputaddress + '/' + dataname + '/'):\n",
    "    if os.path.isdir(outputaddress + '/' +dataname + '/' + str(now.day)+str(now.month)+str(now.year) ):\n",
    "        if os.path.isdir(outputaddress + '/' +dataname + '/' + str(now.day)+str(now.month)+str(now.year) +'/'+'01_Blobs/'):\n",
    "            print(\"\")\n",
    "        else:\n",
    "            os.mkdir(outputaddress + '/'+dataname + '/' + str(now.day)+str(now.month)+str(now.year)+'/'+'01_Blobs/')\n",
    "\n",
    "    else:\n",
    "        os.mkdir(outputaddress + '/'+dataname + '/' + str(now.day)+str(now.month)+str(now.year))\n",
    "        os.mkdir(outputaddress + '/'+dataname + '/' + str(now.day)+str(now.month)+str(now.year)+'/'+'01_Blobs/')\n",
    "\n",
    "else:\n",
    "    os.mkdir(outputaddress + '/'+dataname)\n",
    "    os.mkdir(outputaddress + '/'+dataname + '/' + str(now.day)+str(now.month)+str(now.year))\n",
    "    os.mkdir(outputaddress + '/'+dataname + '/' + str(now.day)+str(now.month)+str(now.year)+'/'+'01_Blobs/')\n"
   ]
  },
  {
   "cell_type": "markdown",
   "metadata": {},
   "source": [
    "**Computation begins**: Let's obtain features (**~nuclei centroids**) and save predictions "
   ]
  },
  {
   "cell_type": "code",
   "execution_count": 5,
   "metadata": {
    "scrolled": true
   },
   "outputs": [
    {
     "data": {
      "application/vnd.jupyter.widget-view+json": {
       "model_id": "49ff98d41dfd411fb6bb8cadaba61bc4",
       "version_major": 2,
       "version_minor": 0
      },
      "text/plain": [
       "HBox(children=(IntProgress(value=0, max=11), HTML(value='')))"
      ]
     },
     "metadata": {},
     "output_type": "display_data"
    },
    {
     "name": "stderr",
     "output_type": "stream",
     "text": [
      "/home/manan/Desktop/01_Projects/25_Tomas_GradientLOG/02_Notebook/Functions/blob.py:96: RuntimeWarning: divide by zero encountered in true_divide\n",
      "  - sqrt((-d + r1 + r2) * (d + r1 - r2)\n"
     ]
    },
    {
     "name": "stdout",
     "output_type": "stream",
     "text": [
      "\n"
     ]
    }
   ],
   "source": [
    "if datamodality == 'liveimaging':\n",
    "    for filename in tqdm(os.listdir(datapath)):\n",
    "        if (filename=='dataset_hdf5.h5'):\n",
    "            f = h5py.File(datapath + filename, 'r')\n",
    "            for timestep in reversed(list(f)):\n",
    "                if ((timestep[0]=='t') and (timestep=='t00600')):\n",
    "                    data = f[timestep +'/s00/0/cells']\n",
    "                    data=np.float32(data)\n",
    "                    timevalue=timestep[-3:]\n",
    "                    if(brightondark):\n",
    "                        blobs = blob.findBlobs(data, datatype, z_x, y_x, mode, scalerange)\n",
    "                    else:\n",
    "                        blobs = blob.findBlobs(-data, datatype, z_x, y_x, mode, scalerange)\n",
    "                    np.savetxt(outputaddress+'/'+dataname+'/'+str(now.day)+str(now.month)+str(now.year) +'/01_Blobs/'+timestep+'.csv', blobs, header=headerdata, delimiter='\\t')\n",
    "elif datamodality == 'fixed':\n",
    "    for filename in tqdm(os.listdir(datapath)):\n",
    "        data=plt.imread(datapath+filename).astype('float32').sum(axis=-1)\n",
    "        if (brightondark):\n",
    "            blobs = blob.findBlobs(data, datatype, z_x, y_x, mode, scalerange)\n",
    "        else:\n",
    "            blobs = blob.findBlobs(-data, datatype, z_x, y_x, mode, scalerange)\n",
    "        np.savetxt(outputaddress+dataname+'/'+str(now.day)+str(now.month)+str(now.year) +'/01_Blobs/'+filename[:-4]+'.csv', blobs, header=headerdata, delimiter='\\t')            "
   ]
  },
  {
   "cell_type": "markdown",
   "metadata": {},
   "source": [
    "**Congrats**, Feature Detectors have beeen computed.\n",
    "Next, access **02_Visualize_Feature_Detectors** to visualize predictions"
   ]
  },
  {
   "cell_type": "code",
   "execution_count": 6,
   "metadata": {},
   "outputs": [
    {
     "name": "stdout",
     "output_type": "stream",
     "text": [
      "BM_GRAZ_HE_0020_01.png\n"
     ]
    }
   ],
   "source": [
    "print(filename)"
   ]
  },
  {
   "cell_type": "code",
   "execution_count": null,
   "metadata": {},
   "outputs": [],
   "source": []
  }
 ],
 "metadata": {
  "kernelspec": {
   "display_name": "Python 3",
   "language": "python",
   "name": "python3"
  },
  "language_info": {
   "codemirror_mode": {
    "name": "ipython",
    "version": 3
   },
   "file_extension": ".py",
   "mimetype": "text/x-python",
   "name": "python",
   "nbconvert_exporter": "python",
   "pygments_lexer": "ipython3",
   "version": "3.6.5"
  }
 },
 "nbformat": 4,
 "nbformat_minor": 2
}
