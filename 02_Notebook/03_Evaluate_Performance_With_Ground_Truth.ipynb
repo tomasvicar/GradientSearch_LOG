{
 "cells": [
  {
   "cell_type": "markdown",
   "metadata": {},
   "source": [
    "Determine the **accuracy** of detections"
   ]
  },
  {
   "cell_type": "code",
   "execution_count": 1,
   "metadata": {},
   "outputs": [],
   "source": [
    "import numpy as np\n",
    "import matplotlib.pyplot as plt\n",
    "from tqdm import tqdm_notebook as tqdm\n",
    "from Functions import utilities\n",
    "import os\n"
   ]
  },
  {
   "cell_type": "markdown",
   "metadata": {},
   "source": [
    "**User-Defined** inputs"
   ]
  },
  {
   "cell_type": "code",
   "execution_count": 4,
   "metadata": {},
   "outputs": [],
   "source": [
    "predictionsdirectory='/home/manan/Desktop/01_Projects/25_Tomas_GradientLOG/03_Output/source/27102018/01_Blobs/'\n",
    "groundtruthdirectory='/home/manan/Desktop/01_Projects/25_Tomas_GradientLOG/01_Data/BM_dataset_MICCAI2015/annotations/'\n",
    "saveresultsdirectory='/home/manan/Desktop/01_Projects/25_Tomas_GradientLOG/03_Output/'"
   ]
  },
  {
   "cell_type": "markdown",
   "metadata": {},
   "source": [
    "**Pre-processing**"
   ]
  },
  {
   "cell_type": "code",
   "execution_count": 5,
   "metadata": {},
   "outputs": [],
   "source": [
    "TP=[]\n",
    "FP=[]\n",
    "FN=[]\n",
    "recall=[]\n",
    "precision=[]\n",
    "jaccardindex=[]\n",
    "F1score=[]\n",
    "filename=[]\n",
    "    "
   ]
  },
  {
   "cell_type": "markdown",
   "metadata": {},
   "source": [
    "Evaluate metrics in **standard** fashion : radius threshold of 8 pixels"
   ]
  },
  {
   "cell_type": "code",
   "execution_count": 6,
   "metadata": {},
   "outputs": [
    {
     "data": {
      "application/vnd.jupyter.widget-view+json": {
       "model_id": "e6a57d6b195c4ebc95d272eb1225996a",
       "version_major": 2,
       "version_minor": 0
      },
      "text/plain": [
       "HBox(children=(IntProgress(value=0, max=11), HTML(value='')))"
      ]
     },
     "metadata": {},
     "output_type": "display_data"
    },
    {
     "name": "stdout",
     "output_type": "stream",
     "text": [
      "\n"
     ]
    },
    {
     "ename": "IndexError",
     "evalue": "too many indices for array",
     "output_type": "error",
     "traceback": [
      "\u001b[0;31m---------------------------------------------------------------------------\u001b[0m",
      "\u001b[0;31mIndexError\u001b[0m                                Traceback (most recent call last)",
      "\u001b[0;32m<ipython-input-6-da19129b9fdd>\u001b[0m in \u001b[0;36m<module>\u001b[0;34m()\u001b[0m\n\u001b[1;32m      6\u001b[0m     \u001b[0mgroundtruthyx\u001b[0m\u001b[0;34m=\u001b[0m\u001b[0mnp\u001b[0m\u001b[0;34m.\u001b[0m\u001b[0marray\u001b[0m\u001b[0;34m(\u001b[0m\u001b[0mnp\u001b[0m\u001b[0;34m.\u001b[0m\u001b[0mnonzero\u001b[0m\u001b[0;34m(\u001b[0m\u001b[0mgroundtruthimage\u001b[0m\u001b[0;34m)\u001b[0m\u001b[0;34m)\u001b[0m\u001b[0;34m.\u001b[0m\u001b[0mT\u001b[0m\u001b[0;34m\u001b[0m\u001b[0m\n\u001b[1;32m      7\u001b[0m     \u001b[0mpredictionsyx\u001b[0m\u001b[0;34m=\u001b[0m\u001b[0mblobs\u001b[0m\u001b[0;34m[\u001b[0m\u001b[0;34m:\u001b[0m\u001b[0;34m,\u001b[0m \u001b[0;36m1\u001b[0m\u001b[0;34m:\u001b[0m\u001b[0;36m3\u001b[0m\u001b[0;34m]\u001b[0m\u001b[0;34m\u001b[0m\u001b[0m\n\u001b[0;32m----> 8\u001b[0;31m     \u001b[0mTPi\u001b[0m\u001b[0;34m,\u001b[0m \u001b[0mFPi\u001b[0m\u001b[0;34m,\u001b[0m \u001b[0mFNi\u001b[0m\u001b[0;34m,\u001b[0m \u001b[0mrecalli\u001b[0m\u001b[0;34m,\u001b[0m \u001b[0mprecisioni\u001b[0m\u001b[0;34m,\u001b[0m \u001b[0mjaccardindexi\u001b[0m\u001b[0;34m,\u001b[0m \u001b[0mF1scorei\u001b[0m\u001b[0;34m=\u001b[0m\u001b[0mutilities\u001b[0m\u001b[0;34m.\u001b[0m\u001b[0mevaluateMetricsStandard\u001b[0m\u001b[0;34m(\u001b[0m\u001b[0mpredictionsyx\u001b[0m\u001b[0;34m,\u001b[0m \u001b[0mgroundtruthyx\u001b[0m\u001b[0;34m,\u001b[0m \u001b[0mradius\u001b[0m\u001b[0;34m=\u001b[0m\u001b[0;36m8\u001b[0m\u001b[0;34m)\u001b[0m\u001b[0;34m\u001b[0m\u001b[0m\n\u001b[0m\u001b[1;32m      9\u001b[0m     \u001b[0mTP\u001b[0m\u001b[0;34m.\u001b[0m\u001b[0mappend\u001b[0m\u001b[0;34m(\u001b[0m\u001b[0mTPi\u001b[0m\u001b[0;34m)\u001b[0m\u001b[0;34m\u001b[0m\u001b[0m\n\u001b[1;32m     10\u001b[0m     \u001b[0mFP\u001b[0m\u001b[0;34m.\u001b[0m\u001b[0mappend\u001b[0m\u001b[0;34m(\u001b[0m\u001b[0mFPi\u001b[0m\u001b[0;34m)\u001b[0m\u001b[0;34m\u001b[0m\u001b[0m\n",
      "\u001b[0;32m~/Desktop/01_Projects/25_Tomas_GradientLOG/02_Notebook/Functions/utilities.py\u001b[0m in \u001b[0;36mevaluateMetricsStandard\u001b[0;34m(predictions, groundtruth, radius)\u001b[0m\n\u001b[1;32m     91\u001b[0m     \u001b[0mdistancevalue\u001b[0m\u001b[0;34m=\u001b[0m\u001b[0mdistancematrix\u001b[0m\u001b[0;34m[\u001b[0m\u001b[0mrowindex\u001b[0m\u001b[0;34m,\u001b[0m \u001b[0mcolindex\u001b[0m\u001b[0;34m]\u001b[0m\u001b[0;34m\u001b[0m\u001b[0m\n\u001b[1;32m     92\u001b[0m \u001b[0;34m\u001b[0m\u001b[0m\n\u001b[0;32m---> 93\u001b[0;31m     \u001b[0mprint\u001b[0m\u001b[0;34m(\u001b[0m\u001b[0mdistancevalue\u001b[0m\u001b[0;34m[\u001b[0m\u001b[0;36m0\u001b[0m\u001b[0;34m,\u001b[0m \u001b[0;34m:\u001b[0m\u001b[0;34m]\u001b[0m\u001b[0;34m)\u001b[0m\u001b[0;34m\u001b[0m\u001b[0m\n\u001b[0m\u001b[1;32m     94\u001b[0m     \u001b[0mrowindex\u001b[0m\u001b[0;34m,\u001b[0m \u001b[0mcolindex\u001b[0m\u001b[0;34m=\u001b[0m\u001b[0mrowindex\u001b[0m\u001b[0;34m[\u001b[0m\u001b[0mdistancevalue\u001b[0m\u001b[0;34m<\u001b[0m\u001b[0mradius\u001b[0m\u001b[0;34m]\u001b[0m\u001b[0;34m,\u001b[0m \u001b[0mcolindex\u001b[0m\u001b[0;34m[\u001b[0m\u001b[0mdistancevalue\u001b[0m\u001b[0;34m<\u001b[0m\u001b[0mradius\u001b[0m\u001b[0;34m]\u001b[0m\u001b[0;34m\u001b[0m\u001b[0m\n\u001b[1;32m     95\u001b[0m     \u001b[0mTP\u001b[0m\u001b[0;34m=\u001b[0m\u001b[0mlen\u001b[0m\u001b[0;34m(\u001b[0m\u001b[0mrowindex\u001b[0m\u001b[0;34m)\u001b[0m\u001b[0;34m\u001b[0m\u001b[0m\n",
      "\u001b[0;31mIndexError\u001b[0m: too many indices for array"
     ]
    }
   ],
   "source": [
    "for predictionsfilename in tqdm(os.listdir(predictionsdirectory)):\n",
    "    blobs, headerdictionary=utilities.getDataAndHeader(predictionsdirectory, predictionsfilename)\n",
    "    groundtruthfilename=predictionsfilename[:-4]+'_dots.png'\n",
    "    groundtruthaddress=groundtruthdirectory+groundtruthfilename\n",
    "    groundtruthimage=plt.imread(groundtruthaddress)\n",
    "    groundtruthyx=np.array(np.nonzero(groundtruthimage)).T\n",
    "    predictionsyx=blobs[:, 1:3]\n",
    "    TPi, FPi, FNi, recalli, precisioni, jaccardindexi, F1scorei=utilities.evaluateMetricsStandard(predictionsyx, groundtruthyx, radius=8)\n",
    "    TP.append(TPi)\n",
    "    FP.append(FPi)\n",
    "    FN.append(FNi)\n",
    "    recall.append(recalli)\n",
    "    precision.append(precisioni)\n",
    "    jaccardindex.append(jaccardindexi)\n",
    "    F1score.append(F1scorei)\n",
    "    filename.append(predictionsfilename)\n"
   ]
  },
  {
   "cell_type": "code",
   "execution_count": 54,
   "metadata": {},
   "outputs": [],
   "source": [
    "resultsstandard= list(zip(filename, TP, FP, FN, recall, precision, jaccardindex, F1score))\n",
    "import pandas as pd\n",
    "df=pd.DataFrame(resultsstandard, columns=['filename', 'TP', 'FP', 'FN', 'recall', 'precision', 'jaccardindex', 'F1score'] )\n",
    "df.to_csv(saveresultsdirectory+'resultsstandard.csv', sep='\\t')\n",
    "#np.savetxt(saveresultsdirectory+'resultsstandard.csv', resultsstandard, delimiter='\\t' )"
   ]
  },
  {
   "cell_type": "markdown",
   "metadata": {},
   "source": [
    "Evaluate metrics in **scale-space** fashion"
   ]
  },
  {
   "cell_type": "code",
   "execution_count": 59,
   "metadata": {},
   "outputs": [],
   "source": [
    "TP=[]\n",
    "FP=[]\n",
    "FN=[]\n",
    "recall=[]\n",
    "precision=[]\n",
    "jaccardindex=[]\n",
    "F1score=[]\n",
    "filename=[]"
   ]
  },
  {
   "cell_type": "code",
   "execution_count": 60,
   "metadata": {},
   "outputs": [
    {
     "data": {
      "application/vnd.jupyter.widget-view+json": {
       "model_id": "eabea4f882bf424b90b197d513d2a380",
       "version_major": 2,
       "version_minor": 0
      },
      "text/plain": [
       "HBox(children=(IntProgress(value=0, max=11), HTML(value='')))"
      ]
     },
     "metadata": {},
     "output_type": "display_data"
    },
    {
     "name": "stdout",
     "output_type": "stream",
     "text": [
      "\n"
     ]
    },
    {
     "ename": "AttributeError",
     "evalue": "module 'Functions.utilities' has no attribute 'evaluateMetricsScaleSpace'",
     "output_type": "error",
     "traceback": [
      "\u001b[0;31m---------------------------------------------------------------------------\u001b[0m",
      "\u001b[0;31mAttributeError\u001b[0m                            Traceback (most recent call last)",
      "\u001b[0;32m<ipython-input-60-b0fb63e39819>\u001b[0m in \u001b[0;36m<module>\u001b[0;34m()\u001b[0m\n\u001b[1;32m     12\u001b[0m         \u001b[0mradiusprediction\u001b[0m\u001b[0;34m=\u001b[0m\u001b[0mnp\u001b[0m\u001b[0;34m.\u001b[0m\u001b[0msqrt\u001b[0m\u001b[0;34m(\u001b[0m\u001b[0;36m3\u001b[0m\u001b[0;34m)\u001b[0m\u001b[0;34m*\u001b[0m\u001b[0mblobs\u001b[0m\u001b[0;34m[\u001b[0m\u001b[0;34m:\u001b[0m\u001b[0;34m,\u001b[0m\u001b[0;36m0\u001b[0m\u001b[0;34m]\u001b[0m\u001b[0;34m\u001b[0m\u001b[0m\n\u001b[1;32m     13\u001b[0m \u001b[0;34m\u001b[0m\u001b[0m\n\u001b[0;32m---> 14\u001b[0;31m     \u001b[0mTPi\u001b[0m\u001b[0;34m,\u001b[0m \u001b[0mFPi\u001b[0m\u001b[0;34m,\u001b[0m \u001b[0mFNi\u001b[0m\u001b[0;34m,\u001b[0m \u001b[0mrecalli\u001b[0m\u001b[0;34m,\u001b[0m \u001b[0mprecisioni\u001b[0m\u001b[0;34m,\u001b[0m \u001b[0mjaccardindexi\u001b[0m\u001b[0;34m,\u001b[0m \u001b[0mF1scorei\u001b[0m\u001b[0;34m=\u001b[0m\u001b[0mutilities\u001b[0m\u001b[0;34m.\u001b[0m\u001b[0mevaluateMetricsScaleSpace\u001b[0m\u001b[0;34m(\u001b[0m\u001b[0mpredictionsyx\u001b[0m\u001b[0;34m,\u001b[0m \u001b[0mgroundtruthyx\u001b[0m\u001b[0;34m,\u001b[0m \u001b[0mradius\u001b[0m\u001b[0;34m=\u001b[0m\u001b[0mradiusprediction\u001b[0m\u001b[0;34m)\u001b[0m\u001b[0;34m\u001b[0m\u001b[0m\n\u001b[0m\u001b[1;32m     15\u001b[0m     \u001b[0mTP\u001b[0m\u001b[0;34m.\u001b[0m\u001b[0mappend\u001b[0m\u001b[0;34m(\u001b[0m\u001b[0mTPi\u001b[0m\u001b[0;34m)\u001b[0m\u001b[0;34m\u001b[0m\u001b[0m\n\u001b[1;32m     16\u001b[0m     \u001b[0mFP\u001b[0m\u001b[0;34m.\u001b[0m\u001b[0mappend\u001b[0m\u001b[0;34m(\u001b[0m\u001b[0mFPi\u001b[0m\u001b[0;34m)\u001b[0m\u001b[0;34m\u001b[0m\u001b[0m\n",
      "\u001b[0;31mAttributeError\u001b[0m: module 'Functions.utilities' has no attribute 'evaluateMetricsScaleSpace'"
     ]
    }
   ],
   "source": [
    "for predictionsfilename in tqdm(os.listdir(predictionsdirectory)):\n",
    "    blobs, headerdictionary=utilities.getDataAndHeader(predictionsdirectory, predictionsfilename)\n",
    "    groundtruthfilename=predictionsfilename[:-4]+'_dots.png'\n",
    "    groundtruthaddress=groundtruthdirectory+groundtruthfilename\n",
    "    groundtruthimage=plt.imread(groundtruthaddress)\n",
    "    groundtruthyx=np.array(np.nonzero(groundtruthimage)).T\n",
    "    predictionsyx=blobs[:, 1:3]\n",
    "    \n",
    "    if (headerdictionary['datatype']=='2D'):\n",
    "        radiusprediction=np.sqrt(2)*blobs[:,0]\n",
    "        radiusmatrix=np.repeat(radiusmatrix, np.shape(groundtruthyx)[0], axis=1)\n",
    "    \n",
    "    else:\n",
    "        radiusprediction=np.sqrt(3)*blobs[:,0]\n",
    "        radiusmatrix=np.repeat(radiusmatrix, np.shape(groundtruthyx)[0], axis=1)\n",
    "        \n",
    "    TPi, FPi, FNi, recalli, precisioni, jaccardindexi, F1scorei=utilities.evaluateMetricsScaleSpace(predictionsyx, groundtruthyx, radius=radiusprediction)\n",
    "    TP.append(TPi)\n",
    "    FP.append(FPi)\n",
    "    FN.append(FNi)\n",
    "    recall.append(recalli)\n",
    "    precision.append(precisioni)\n",
    "    jaccardindex.append(jaccardindexi)\n",
    "    F1score.append(F1scorei)\n",
    "    filename.append(predictionsfilename)\n"
   ]
  },
  {
   "cell_type": "code",
   "execution_count": null,
   "metadata": {},
   "outputs": [],
   "source": [
    "resultsscalespace= list(zip(filename, TP, FP, FN, recall, precision, jaccardindex, F1score))\n",
    "import pandas as pd\n",
    "df=pd.DataFrame(resultsstandard, columns=['filename', 'TP', 'FP', 'FN', 'recall', 'precision', 'jaccardindex', 'F1score'] )\n",
    "df.to_csv(saveresultsdirectory+'resultsscalespace.csv', sep='\\t')\n"
   ]
  },
  {
   "cell_type": "code",
   "execution_count": 58,
   "metadata": {},
   "outputs": [
    {
     "data": {
      "text/plain": [
       "True"
      ]
     },
     "execution_count": 58,
     "metadata": {},
     "output_type": "execute_result"
    }
   ],
   "source": [
    "headerdictionary['datatype']=='2D'\n"
   ]
  },
  {
   "cell_type": "code",
   "execution_count": 9,
   "metadata": {},
   "outputs": [
    {
     "data": {
      "text/plain": [
       "array([[3.16227766, 2.23606798],\n",
       "       [7.21110255, 9.        ]])"
      ]
     },
     "execution_count": 9,
     "metadata": {},
     "output_type": "execute_result"
    }
   ],
   "source": [
    "from scipy.spatial import distance_matrix\n",
    "distance_matrix([[2,3],[1,10]], [[5,4],[1,1]])"
   ]
  },
  {
   "cell_type": "code",
   "execution_count": 14,
   "metadata": {},
   "outputs": [],
   "source": [
    "a=np.random.rand(5,1)"
   ]
  },
  {
   "cell_type": "code",
   "execution_count": 15,
   "metadata": {},
   "outputs": [
    {
     "ename": "AttributeError",
     "evalue": "module 'numpy' has no attribute 'repmat'",
     "output_type": "error",
     "traceback": [
      "\u001b[0;31m---------------------------------------------------------------------------\u001b[0m",
      "\u001b[0;31mAttributeError\u001b[0m                            Traceback (most recent call last)",
      "\u001b[0;32m<ipython-input-15-a19e2f0436f6>\u001b[0m in \u001b[0;36m<module>\u001b[0;34m()\u001b[0m\n\u001b[0;32m----> 1\u001b[0;31m \u001b[0mnp\u001b[0m\u001b[0;34m.\u001b[0m\u001b[0mrepmat\u001b[0m\u001b[0;34m(\u001b[0m\u001b[0ma\u001b[0m\u001b[0;34m,\u001b[0m \u001b[0;36m3\u001b[0m\u001b[0;34m)\u001b[0m\u001b[0;34m\u001b[0m\u001b[0m\n\u001b[0m",
      "\u001b[0;31mAttributeError\u001b[0m: module 'numpy' has no attribute 'repmat'"
     ]
    }
   ],
   "source": [
    "np.repmat(a, 3)"
   ]
  },
  {
   "cell_type": "code",
   "execution_count": 16,
   "metadata": {},
   "outputs": [
    {
     "data": {
      "text/plain": [
       "[array([[0.02960581],\n",
       "        [0.4334659 ],\n",
       "        [0.94329902],\n",
       "        [0.21180146],\n",
       "        [0.70345637]]), array([[0.02960581],\n",
       "        [0.4334659 ],\n",
       "        [0.94329902],\n",
       "        [0.21180146],\n",
       "        [0.70345637]]), array([[0.02960581],\n",
       "        [0.4334659 ],\n",
       "        [0.94329902],\n",
       "        [0.21180146],\n",
       "        [0.70345637]])]"
      ]
     },
     "execution_count": 16,
     "metadata": {},
     "output_type": "execute_result"
    }
   ],
   "source": [
    "[a]*3"
   ]
  },
  {
   "cell_type": "code",
   "execution_count": 17,
   "metadata": {},
   "outputs": [],
   "source": [
    "b=[89, 90, 78]"
   ]
  },
  {
   "cell_type": "code",
   "execution_count": 18,
   "metadata": {},
   "outputs": [
    {
     "data": {
      "text/plain": [
       "[89, 90, 78, 89, 90, 78, 89, 90, 78]"
      ]
     },
     "execution_count": 18,
     "metadata": {},
     "output_type": "execute_result"
    }
   ],
   "source": [
    "b*3\n",
    "\n"
   ]
  },
  {
   "cell_type": "code",
   "execution_count": 34,
   "metadata": {},
   "outputs": [
    {
     "ename": "NameError",
     "evalue": "name 'groundtruth_yx' is not defined",
     "output_type": "error",
     "traceback": [
      "\u001b[0;31m---------------------------------------------------------------------------\u001b[0m",
      "\u001b[0;31mNameError\u001b[0m                                 Traceback (most recent call last)",
      "\u001b[0;32m<ipython-input-34-4c2d068a06ce>\u001b[0m in \u001b[0;36m<module>\u001b[0;34m()\u001b[0m\n\u001b[0;32m----> 1\u001b[0;31m \u001b[0mnp\u001b[0m\u001b[0;34m.\u001b[0m\u001b[0mshape\u001b[0m\u001b[0;34m(\u001b[0m\u001b[0mgroundtruth_yx\u001b[0m\u001b[0;34m)\u001b[0m\u001b[0;34m[\u001b[0m\u001b[0;36m0\u001b[0m\u001b[0;34m]\u001b[0m\u001b[0;34m\u001b[0m\u001b[0m\n\u001b[0m",
      "\u001b[0;31mNameError\u001b[0m: name 'groundtruth_yx' is not defined"
     ]
    }
   ],
   "source": [
    "np.shape(groundtruth_yx)[0]"
   ]
  },
  {
   "cell_type": "code",
   "execution_count": 22,
   "metadata": {},
   "outputs": [],
   "source": [
    "x = np.array([[1,2],[3,4]])"
   ]
  },
  {
   "cell_type": "code",
   "execution_count": 23,
   "metadata": {},
   "outputs": [
    {
     "data": {
      "text/plain": [
       "array([1, 1, 1, 2, 2, 2, 3, 3, 3, 4, 4, 4])"
      ]
     },
     "execution_count": 23,
     "metadata": {},
     "output_type": "execute_result"
    }
   ],
   "source": [
    "np.repeat(x,3)"
   ]
  },
  {
   "cell_type": "code",
   "execution_count": 30,
   "metadata": {},
   "outputs": [],
   "source": [
    "x=np.random.rand(5,1)"
   ]
  },
  {
   "cell_type": "code",
   "execution_count": 31,
   "metadata": {},
   "outputs": [
    {
     "data": {
      "text/plain": [
       "array([[0.74240922],\n",
       "       [0.078088  ],\n",
       "       [0.41544146],\n",
       "       [0.59881631],\n",
       "       [0.70788938]])"
      ]
     },
     "execution_count": 31,
     "metadata": {},
     "output_type": "execute_result"
    }
   ],
   "source": [
    "x"
   ]
  },
  {
   "cell_type": "code",
   "execution_count": 33,
   "metadata": {},
   "outputs": [
    {
     "data": {
      "text/plain": [
       "array([[0.74240922, 0.74240922, 0.74240922],\n",
       "       [0.078088  , 0.078088  , 0.078088  ],\n",
       "       [0.41544146, 0.41544146, 0.41544146],\n",
       "       [0.59881631, 0.59881631, 0.59881631],\n",
       "       [0.70788938, 0.70788938, 0.70788938]])"
      ]
     },
     "execution_count": 33,
     "metadata": {},
     "output_type": "execute_result"
    }
   ],
   "source": [
    "np.repeat(x,3, axis=1)"
   ]
  },
  {
   "cell_type": "code",
   "execution_count": 35,
   "metadata": {},
   "outputs": [],
   "source": [
    "a=np.random.rand(3,3)"
   ]
  },
  {
   "cell_type": "code",
   "execution_count": 36,
   "metadata": {},
   "outputs": [],
   "source": [
    "b=np.random.rand(3,3)"
   ]
  },
  {
   "cell_type": "code",
   "execution_count": 40,
   "metadata": {},
   "outputs": [
    {
     "data": {
      "text/plain": [
       "array([[-0.62009745, -0.18109739,  0.36825788],\n",
       "       [-0.06821778,  0.0143975 ,  0.26694392],\n",
       "       [-0.09306083,  0.11478142, -0.25944797]])"
      ]
     },
     "execution_count": 40,
     "metadata": {},
     "output_type": "execute_result"
    }
   ],
   "source": [
    "a-b\n"
   ]
  },
  {
   "cell_type": "code",
   "execution_count": 41,
   "metadata": {},
   "outputs": [
    {
     "data": {
      "text/plain": [
       "<function ndarray.any>"
      ]
     },
     "execution_count": 41,
     "metadata": {},
     "output_type": "execute_result"
    }
   ],
   "source": [
    "(a-b).any"
   ]
  },
  {
   "cell_type": "code",
   "execution_count": null,
   "metadata": {},
   "outputs": [],
   "source": []
  }
 ],
 "metadata": {
  "kernelspec": {
   "display_name": "Python 3",
   "language": "python",
   "name": "python3"
  },
  "language_info": {
   "codemirror_mode": {
    "name": "ipython",
    "version": 3
   },
   "file_extension": ".py",
   "mimetype": "text/x-python",
   "name": "python",
   "nbconvert_exporter": "python",
   "pygments_lexer": "ipython3",
   "version": "3.6.5"
  }
 },
 "nbformat": 4,
 "nbformat_minor": 2
}
